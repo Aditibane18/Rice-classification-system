{
 "cells": [
  {
   "cell_type": "markdown",
   "metadata": {
    "id": "Csz9ASXS6Dkd"
   },
   "source": [
    "# Import Necesarry Libraries"
   ]
  },
  {
   "cell_type": "code",
   "execution_count": 3,
   "metadata": {
    "executionInfo": {
     "elapsed": 479,
     "status": "ok",
     "timestamp": 1696862969559,
     "user": {
      "displayName": "Aditi Bane",
      "userId": "05137535434800719513"
     },
     "user_tz": -330
    },
    "id": "38HoorKr6XwE"
   },
   "outputs": [],
   "source": [
    "import pandas as pd\n",
    "import numpy as np\n",
    "import matplotlib.pyplot as plt\n",
    "import joblib\n",
    "from tkinter import *\n",
    "import tkinter.messagebox\n",
    "import warnings\n",
    "warnings.filterwarnings('ignore')"
   ]
  },
  {
   "cell_type": "code",
   "execution_count": 4,
   "metadata": {
    "colab": {
     "base_uri": "https://localhost:8080/",
     "height": 366
    },
    "executionInfo": {
     "elapsed": 515,
     "status": "error",
     "timestamp": 1696863569675,
     "user": {
      "displayName": "Aditi Bane",
      "userId": "05137535434800719513"
     },
     "user_tz": -330
    },
    "id": "o_tPpOfk6hEd",
    "outputId": "a6795020-e7c3-4f29-e0ba-586e7159091b"
   },
   "outputs": [],
   "source": [
    "top = Tk()\n",
    "top.title('Rice Image classification System')\n",
    "top.geometry(\"900x500\")\n",
    "top.resizable(0, 0)\n",
    "\n",
    "# Deserialization\n",
    "classifier = joblib.load('classifier.model')\n",
    "scaler = joblib.load('scaler.model')\n",
    "\n",
    "def check():\n",
    "    global a, b, c\n",
    "    new = np.array([[a.get(), b.get(), c.get()]])\n",
    "    new = pd.DataFrame({\n",
    "        'Area':[a.get()],\n",
    "        'Perimeter':[b.get()],\n",
    "        'Convex_Area':[c.get()]\n",
    "    })\n",
    "    y_pred = classifier.predict(scaler.transform(new))\n",
    "    if y_pred[0] == 'Cammeo':\n",
    "        tkinter.messagebox.showinfo('Result','Cammeo Rice')\n",
    "    elif y_pred[0] == 'Osmancik':\n",
    "        tkinter.messagebox.showinfo('Result','Osmancik Rice')\n",
    "\n",
    "a = DoubleVar()\n",
    "b = DoubleVar()\n",
    "c = DoubleVar()\n",
    "\n",
    "Label(top, text=\"RICE CLASSIFICATION SYSTEM\",\n",
    "      font=('Ubuntu', 25)).place(x=120,y=30)\n",
    "Label(top, text=\"AREA:\",\n",
    "      font=('courier', 16)).place(x=20,y=100)\n",
    "Entry(top, textvariable=a, font=('courier', 16)).place(x=280,y=100)\n",
    "Label(top, text=\"PERIMETER:\", font=('courier', 16)).place(x=20,y=150)\n",
    "Entry(top, textvariable=b, font=('courier', 16)).place(x=280,y=150)\n",
    "Label(top, text=\"CONVEX_AREA:\", font=('courier', 16)).place(x=20,y=200)\n",
    "Entry(top, textvariable=c, font=('courier', 16)).place(x=280,y=200)\n",
    "\n",
    "Button(top, text=\"--Check--\",\n",
    "       font=('courier', 16, 'bold'), command=check).place(x=250,y=400)\n",
    "\n",
    "top.mainloop()"
   ]
  }
 ],
 "metadata": {
  "colab": {
   "authorship_tag": "ABX9TyNpJsnOSjazOm42fxdTWtPX",
   "provenance": []
  },
  "kernelspec": {
   "display_name": "Python 3 (ipykernel)",
   "language": "python",
   "name": "python3"
  },
  "language_info": {
   "codemirror_mode": {
    "name": "ipython",
    "version": 3
   },
   "file_extension": ".py",
   "mimetype": "text/x-python",
   "name": "python",
   "nbconvert_exporter": "python",
   "pygments_lexer": "ipython3",
   "version": "3.10.9"
  }
 },
 "nbformat": 4,
 "nbformat_minor": 1
}
